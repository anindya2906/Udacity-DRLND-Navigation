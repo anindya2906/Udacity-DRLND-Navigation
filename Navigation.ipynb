{
 "cells": [
  {
   "cell_type": "markdown",
   "id": "communist-creativity",
   "metadata": {},
   "source": [
    "# Banana Navigation"
   ]
  },
  {
   "cell_type": "markdown",
   "id": "spread-highland",
   "metadata": {},
   "source": [
    "In this notebook we will train a Deep Q-Network (DQN) Agent to navigate and collect certain kind of items (yellow banana) while avoiding another kind of items (blue banana) in a large square world."
   ]
  },
  {
   "cell_type": "code",
   "execution_count": 1,
   "id": "consistent-satin",
   "metadata": {},
   "outputs": [],
   "source": [
    "import numpy as np\n",
    "import torch\n",
    "from dqn.agent import Agent\n",
    "from unityagents import UnityEnvironment\n",
    "from collections import deque\n",
    "import matplotlib.pyplot as plt\n",
    "%matplotlib inline"
   ]
  },
  {
   "cell_type": "markdown",
   "id": "fabulous-lightweight",
   "metadata": {},
   "source": [
    "### Check for GPU device. If not available use CPU"
   ]
  },
  {
   "cell_type": "code",
   "execution_count": 2,
   "id": "wooden-edward",
   "metadata": {},
   "outputs": [
    {
     "name": "stdout",
     "output_type": "stream",
     "text": [
      "Using device: cpu\n"
     ]
    }
   ],
   "source": [
    "device = torch.device('cuda:0' if torch.cuda.is_available() else 'cpu')\n",
    "print(f\"Using device: {device}\")"
   ]
  },
  {
   "cell_type": "markdown",
   "id": "finished-captain",
   "metadata": {},
   "source": [
    "### Create the environment and set the default for controlling\n",
    "Please change the file name of the environment in case the file path or name is different"
   ]
  },
  {
   "cell_type": "code",
   "execution_count": 3,
   "id": "medical-family",
   "metadata": {},
   "outputs": [
    {
     "name": "stderr",
     "output_type": "stream",
     "text": [
      "INFO:unityagents:\n",
      "'Academy' started successfully!\n",
      "Unity Academy name: Academy\n",
      "        Number of Brains: 1\n",
      "        Number of External Brains : 1\n",
      "        Lesson number : 0\n",
      "        Reset Parameters :\n",
      "\t\t\n",
      "Unity brain name: BananaBrain\n",
      "        Number of Visual Observations (per agent): 0\n",
      "        Vector Observation space type: continuous\n",
      "        Vector Observation space size (per agent): 37\n",
      "        Number of stacked Vector Observation: 1\n",
      "        Vector Action space type: discrete\n",
      "        Vector Action space size (per agent): 4\n",
      "        Vector Action descriptions: , , , \n"
     ]
    }
   ],
   "source": [
    "env = UnityEnvironment(file_name=\"Banana_Linux/Banana.x86_64\")\n",
    "brain_name = env.brain_names[0]\n",
    "brain = env.brains[brain_name]"
   ]
  },
  {
   "cell_type": "markdown",
   "id": "cathedral-market",
   "metadata": {},
   "source": [
    "### Check the environment for Action and State size"
   ]
  },
  {
   "cell_type": "code",
   "execution_count": 4,
   "id": "interpreted-essence",
   "metadata": {},
   "outputs": [],
   "source": [
    "env_info = env.reset(train_mode=True)[brain_name]\n",
    "state = env_info.vector_observations[0]"
   ]
  },
  {
   "cell_type": "code",
   "execution_count": 5,
   "id": "incomplete-jones",
   "metadata": {},
   "outputs": [],
   "source": [
    "action_size = brain.vector_action_space_size\n",
    "state_size = len(state)"
   ]
  },
  {
   "cell_type": "markdown",
   "id": "directed-bangladesh",
   "metadata": {},
   "source": [
    "### Create an agent"
   ]
  },
  {
   "cell_type": "code",
   "execution_count": 6,
   "id": "superb-mercy",
   "metadata": {},
   "outputs": [],
   "source": [
    "agent = Agent(state_size=state_size, action_size=action_size, device=device)"
   ]
  },
  {
   "cell_type": "markdown",
   "id": "heavy-dominican",
   "metadata": {},
   "source": [
    "### Helper method to train the agent on the environment\n",
    "\n",
    "**Parameters:**\n",
    "- **n_episodes(int):** Maximum number of episodes to run the training process\n",
    "- **max_t(int):** Maximum number of time step the agent will spend in each episode\n",
    "- **eps_start(float):** Initial value of epsilon\n",
    "- **eps_end(float):** Minimum value of epsilon\n",
    "- **eps_decay(float):** The decay rate of epsilon for each episode\n",
    "- **max_score(float):** The avg. score in last 100 episodes after which the environment will be considered as solved\n",
    "- **model_path(str):** Path to save the trained model"
   ]
  },
  {
   "cell_type": "code",
   "execution_count": 7,
   "id": "illegal-james",
   "metadata": {},
   "outputs": [],
   "source": [
    "def train(n_episodes=2000, max_t=1000, eps_start=1.0, eps_end=0.01, eps_decay=0.995, max_score=13.0, model_path='model.pt'):\n",
    "    scores = []\n",
    "    scores_window = deque(maxlen=100)\n",
    "    eps = eps_start\n",
    "    for i_episode in range(1, n_episodes+1):\n",
    "        env_info = env.reset(train_mode=True)[brain_name]\n",
    "        state = env_info.vector_observations[0]\n",
    "        score = 0\n",
    "        for t in range(max_t):\n",
    "            action = agent.act(state, eps)\n",
    "            env_info = env.step(action)[brain_name]\n",
    "            next_state = env_info.vector_observations[0]\n",
    "            reward = env_info.rewards[0]\n",
    "            done = env_info.local_done[0]\n",
    "            agent.step(state, action, reward, next_state, done)\n",
    "            state = next_state\n",
    "            score += reward\n",
    "            if done:\n",
    "                break\n",
    "        scores_window.append(score)\n",
    "        scores.append(score)\n",
    "        eps = max(eps_end, eps*eps_decay)\n",
    "        print(f\"\\rEpisode {i_episode}\\tAverage Score: {np.mean(scores_window)}\", end=\"\")\n",
    "        if i_episode % 100 == 0:\n",
    "            print(f\"\\rEpisode {i_episode}\\tAverage Score: {np.mean(scores_window)}\")\n",
    "        if np.mean(scores_window) >= max_score:\n",
    "            print(f\"\\nEnvironment solved in {i_episode-100} episodes!\\tAverage Score: {np.mean(scores_window)}\")\n",
    "            torch.save(agent.qnetwork_local.state_dict(), model_path)\n",
    "            break\n",
    "    return scores"
   ]
  },
  {
   "cell_type": "markdown",
   "id": "celtic-robert",
   "metadata": {},
   "source": [
    "### Helper method to visualize the training scores\n",
    "\n",
    "**Parameters**\n",
    "- **scores(list of floats):** The scores collected for all episodes"
   ]
  },
  {
   "cell_type": "code",
   "execution_count": 8,
   "id": "rising-sellers",
   "metadata": {},
   "outputs": [],
   "source": [
    "def visualize(scores):\n",
    "    fig = plt.figure()\n",
    "    ax = fig.add_subplot(111)\n",
    "    plt.plot(np.arange(len(scores)), scores)\n",
    "    plt.ylabel('Scores')\n",
    "    plt.xlabel('Episode')\n",
    "    plt.show()"
   ]
  },
  {
   "cell_type": "markdown",
   "id": "clinical-independence",
   "metadata": {},
   "source": [
    "### Helper method to test a trained agent on the environment\n",
    "\n",
    "**Parameters**\n",
    "- **env:** The environmnts\n",
    "- **agent:** The agent object\n",
    "- **n_episodes(int):** Number of episodes to run the test\n",
    "- **model_path:** Path to a saved pytorch model "
   ]
  },
  {
   "cell_type": "code",
   "execution_count": 10,
   "id": "designing-guess",
   "metadata": {},
   "outputs": [],
   "source": [
    "def test(env, agent, n_episodes=3, model_path='model.pt'):\n",
    "    agent.qnetwork_local.load_state_dict(torch.load(model_path))\n",
    "    total_score = 0\n",
    "    for i_episode in range(1, n_episodes+1):\n",
    "        score = 0\n",
    "        env_info = env.reset(train_mode=False)[brain_name]\n",
    "        state = env_info.vector_observations[0]\n",
    "        while True:\n",
    "            action = agent.act(state)\n",
    "            env_info = env.step(action)[brain_name]\n",
    "            next_state = env_info.vector_observations[0]\n",
    "            reward = env_info.rewards[0]\n",
    "            done = env_info.local_done[0]\n",
    "            score += reward\n",
    "            state = next_state\n",
    "            if done:\n",
    "                break\n",
    "        print(f\"\\rEpisode {i_episode} \\tScore: {score}\")\n",
    "        total_score += score\n",
    "    print(f\"\\rAverage score in {n_episodes} episodes: {total_score/n_episodes}\")\n",
    "            "
   ]
  },
  {
   "cell_type": "markdown",
   "id": "distant-macintosh",
   "metadata": {},
   "source": [
    "### Run the training process\n",
    "Start training the agent and visualize the scores after the completion of the training. In case of any error close the environment."
   ]
  },
  {
   "cell_type": "code",
   "execution_count": 9,
   "id": "typical-burke",
   "metadata": {},
   "outputs": [
    {
     "name": "stdout",
     "output_type": "stream",
     "text": [
      "Episode 100\tAverage Score: 0.476464646464646445\n",
      "Episode 200\tAverage Score: 3.44\n",
      "Episode 300\tAverage Score: 6.98\n",
      "Episode 400\tAverage Score: 9.59\n",
      "Episode 500\tAverage Score: 11.64\n",
      "Episode 571\tAverage Score: 13.03\n",
      "Environment solved in 471 episodes!\tAverage Score: 13.03\n"
     ]
    },
    {
     "data": {
      "image/png": "[encoded data removed]",
      "text/plain": [
       "<Figure size 432x288 with 1 Axes>"
      ]
     },
     "metadata": {
      "needs_background": "light"
     },
     "output_type": "display_data"
    }
   ],
   "source": [
    "try:\n",
    "    scores = train()\n",
    "    visualize(scores)\n",
    "except Exception as e:\n",
    "    env.close()\n",
    "    raise e"
   ]
  },
  {
   "cell_type": "markdown",
   "id": "induced-formula",
   "metadata": {},
   "source": [
    "### Test the agent\n",
    "Use the trained agent to play the game."
   ]
  },
  {
   "cell_type": "code",
   "execution_count": 11,
   "id": "wanted-wealth",
   "metadata": {},
   "outputs": [
    {
     "name": "stdout",
     "output_type": "stream",
     "text": [
      "Episode 1 \tScore: 10.0\n",
      "Episode 2 \tScore: 12.0\n",
      "Episode 3 \tScore: 14.0\n",
      "Average score in 3 episodes: 12.0\n"
     ]
    }
   ],
   "source": [
    "test(env=env, agent=agent)"
   ]
  },
  {
   "cell_type": "markdown",
   "id": "handled-natural",
   "metadata": {},
   "source": [
    "### Close the environment after everything is done"
   ]
  },
  {
   "cell_type": "code",
   "execution_count": 12,
   "id": "fixed-forge",
   "metadata": {},
   "outputs": [],
   "source": [
    "env.close()"
   ]
  },
  {
   "cell_type": "code",
   "execution_count": null,
   "id": "intense-complement",
   "metadata": {},
   "outputs": [],
   "source": []
  }
 ],
 "metadata": {
  "kernelspec": {
   "display_name": "drlnd",
   "language": "python",
   "name": "drlnd"
  },
  "language_info": {
   "codemirror_mode": {
    "name": "ipython",
    "version": 3
   },
   "file_extension": ".py",
   "mimetype": "text/x-python",
   "name": "python",
   "nbconvert_exporter": "python",
   "pygments_lexer": "ipython3",
   "version": "3.6.12"
  }
 },
 "nbformat": 4,
 "nbformat_minor": 5
}
